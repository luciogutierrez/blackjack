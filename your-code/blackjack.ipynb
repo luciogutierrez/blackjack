{
 "metadata": {
  "language_info": {
   "codemirror_mode": {
    "name": "ipython",
    "version": 3
   },
   "file_extension": ".py",
   "mimetype": "text/x-python",
   "name": "python",
   "nbconvert_exporter": "python",
   "pygments_lexer": "ipython3",
   "version": "3.9.1"
  },
  "orig_nbformat": 2,
  "kernelspec": {
   "name": "python391jvsc74a57bd0376f5b0795f81aa7b5d99e448d6274743a66c9892fd26cf11e505993f41df5fa",
   "display_name": "Python 3.9.1 64-bit"
  }
 },
 "nbformat": 4,
 "nbformat_minor": 2,
 "cells": [
  {
   "source": [
    "# Blackjack\n",
    "\n",
    "## Objetivo: sumar 21 puntos sin pasarse, pero sumar más puntos de los que tiene el crupier.\n",
    "\n",
    "## Reglas\n",
    "### Regla 1: el 1 puede tomar el valor de 1 o 11 segun convenga.\n",
    "### Regla 2: los números 10, 11 y 12 tienen un valor de 10.\n",
    "\n",
    "## Modo de juego\n",
    "### 1- El crupier repartirá dos cartas descubiertas a cada jugador y una a sí mismo.\n",
    "### 2- Cada jugador decidirá si pide más cartas o se planta con las ya repartidas.\n",
    "### 3- Luego el crupier jugará su mano.\n",
    "\n"
   ],
   "cell_type": "markdown",
   "metadata": {}
  },
  {
   "cell_type": "code",
   "execution_count": 1,
   "metadata": {},
   "outputs": [],
   "source": [
    "# Head\n",
    "import random\n"
   ]
  },
  {
   "cell_type": "code",
   "execution_count": 2,
   "metadata": {},
   "outputs": [],
   "source": [
    "# Nueva tarjeta\n",
    "def sacar_tarjeta():\n",
    "    return random.randint(1,12)"
   ]
  },
  {
   "cell_type": "code",
   "execution_count": 4,
   "metadata": {},
   "outputs": [],
   "source": [
    "def reparto_inicial():\n",
    "    gamer = []\n",
    "    crupier = []\n",
    "    gamer.append(sacar_tarjeta())\n",
    "    gamer.append(sacar_tarjeta())\n",
    "    crupier.append(sacar_tarjeta())\n",
    "    return gamer, crupier"
   ]
  },
  {
   "cell_type": "code",
   "execution_count": 3,
   "metadata": {},
   "outputs": [],
   "source": [
    "def suma_partida(partida):\n",
    "    total1 = 0\n",
    "    total2 = 0\n",
    "    for num in partida:\n",
    "        if num < 10:\n",
    "            total1 += num\n",
    "        else:\n",
    "            total1 += 10\n",
    "    if 1 in partida:            \n",
    "        for num in partida:\n",
    "            if num == 1:\n",
    "                total2 += 11\n",
    "            elif num > 1 and num < 10:\n",
    "                total2 += num\n",
    "            else:\n",
    "                total2 += 10\n",
    "    return total1, total2"
   ]
  },
  {
   "cell_type": "code",
   "execution_count": 23,
   "metadata": {},
   "outputs": [],
   "source": [
    "def jugada_nueva(partida):\n",
    "    partida.append(sacar_tarjeta())\n",
    "    suma1, suma2 = suma_partida(partida)\n",
    "    return partida, suma1, suma2\n"
   ]
  },
  {
   "cell_type": "code",
   "execution_count": null,
   "metadata": {},
   "outputs": [],
   "source": [
    "def cabecera():\n",
    "    print('------------- Blackjack -------------')\n",
    "    print()\n",
    "    print('bienvenido')\n",
    "    print()\n",
    "    print('Objetivo: sumar 21 puntos sin pasarse, pero sumar más puntos de los que tiene el crupier.')\n",
    "    print()\n",
    "    print('Reglas')\n",
    "    print('Regla 1: el 1 puede tomar el valor de 1 o 11 segun convenga.')\n",
    "    print('Regla 2: los números 10, 11 y 12 tienen un valor de 10.')\n",
    "    print()\n",
    "    print('Modo de juego')\n",
    "    print('1- El crupier repartirá dos cartas descubiertas al jugador y una a sí mismo.')\n",
    "    print('2- El jugador decidirá si se planta con las cartas ya repartidas o si pide más cartas.')\n",
    "    print('3- Cuando el jugador no quiera más cartas se plantará, sediendo el turno al crupier.')\n",
    "    print('4- Luego el crupier jugará su mano.')\n",
    "    print()\n",
    "    print('Menú')\n",
    "    print('s - sacar nueva carta')\n",
    "    print('p - plantarte con el juego actual')\n",
    "    print('c - sacar nueva carta para crupier')\n",
    "    print('x - salir del juego')\n",
    "    print()    \n"
   ]
  },
  {
   "cell_type": "code",
   "execution_count": 46,
   "metadata": {},
   "outputs": [
    {
     "output_type": "stream",
     "name": "stdout",
     "text": [
      "Blackjack\n",
      "bienvenido\n",
      "Menú\n",
      "s - sacar nueva carta\n",
      "p - plantarte con el juego actual\n",
      "c - sacar nueva carta para crupier\n",
      "x - salir del juego\n",
      "\n",
      "your game:  [9, 12] 19 0\n",
      "home game:  [12]\n",
      "\n",
      "\n",
      "home game:  [12, 2] 12 0\n",
      "\n",
      "home game:  [12, 2, 9] 21 0\n",
      "La casa gana\n"
     ]
    }
   ],
   "source": [
    "cabecera()    \n",
    "gamer, crupier = reparto_inicial()\n",
    "suma1_g, suma2_g = suma_partida(gamer)\n",
    "suma1_c, suma2_c = suma_partida(crupier)\n",
    "print(\"your game: \", gamer, suma1_g, suma2_g)\n",
    "print(\"home game: \", crupier)\n",
    "print()    \n",
    "respuesta=''\n",
    "while respuesta != 'x':\n",
    "    respuesta = input('¿que deseas hacer?: ')\n",
    "    if respuesta == 's':\n",
    "        gamer, suma1_g, suma2_g = jugada_nueva(gamer)\n",
    "        print(\"your game: \", gamer, suma1_g, suma2_g)\n",
    "        if suma1_g > 21:\n",
    "            print(\"PERDISTE\")\n",
    "            break\n",
    "        elif suma1_g == 21 or suma2_g == 21:\n",
    "            print(\"FELICINDADES! GANASTE\")\n",
    "            break\n",
    "    elif respuesta == 'p' or respuesta == 'c':\n",
    "        crupier, suma1_c, suma2_c = jugada_nueva(crupier)\n",
    "        print()\n",
    "        print(\"home game: \", crupier, suma1_c, suma2_c)\n",
    "        if suma1_c > 21:\n",
    "            print(\"La casa pierde\")\n",
    "            break\n",
    "        if suma1_c == 21 or suma2_c == 21:\n",
    "            print(\"La casa gana\")\n",
    "            break\n",
    "        if (suma1_c < 22 and suma1_c > suma1_g) and suma1_c > suma2_g:\n",
    "            print(\"La casa gana\")\n",
    "            break\n",
    "    else:\n",
    "        continue\n",
    "    \n",
    "\n"
   ]
  },
  {
   "cell_type": "code",
   "execution_count": null,
   "metadata": {},
   "outputs": [],
   "source": []
  }
 ]
}