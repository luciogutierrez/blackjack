{
 "metadata": {
  "language_info": {
   "codemirror_mode": {
    "name": "ipython",
    "version": 3
   },
   "file_extension": ".py",
   "mimetype": "text/x-python",
   "name": "python",
   "nbconvert_exporter": "python",
   "pygments_lexer": "ipython3",
   "version": "3.9.1"
  },
  "orig_nbformat": 2,
  "kernelspec": {
   "name": "python391jvsc74a57bd0376f5b0795f81aa7b5d99e448d6274743a66c9892fd26cf11e505993f41df5fa",
   "display_name": "Python 3.9.1 64-bit"
  }
 },
 "nbformat": 4,
 "nbformat_minor": 2,
 "cells": [
  {
   "source": [
    "# Blackjack\n",
    "\n",
    "## Objetivo: sumar 21 puntos sin pasarse, pero sumar más puntos de los que tiene el crupier.\n",
    "\n",
    "## Reglas\n",
    "### Regla 1: el 1 puede tomar el valor de 1 o 11 segun convenga.\n",
    "### Regla 2: los números 10, 11 y 12 tienen un valor de 10.\n",
    "\n",
    "## Modo de juego\n",
    "### 1- El crupier repartirá dos cartas descubiertas a cada jugador y una a sí mismo.\n",
    "### 2- Cada jugador decidirá si pide más cartas o se planta con las ya repartidas.\n",
    "### 3- Luego el crupier jugará su mano.\n",
    "\n"
   ],
   "cell_type": "markdown",
   "metadata": {}
  },
  {
   "cell_type": "code",
   "execution_count": 23,
   "metadata": {},
   "outputs": [],
   "source": [
    "# Head\n",
    "# Imports, Global variables, Functions\n",
    "import random\n"
   ]
  },
  {
   "cell_type": "code",
   "execution_count": 24,
   "metadata": {},
   "outputs": [],
   "source": [
    "# Nueva tarjeta\n",
    "def sacar_tarjeta():\n",
    "    return random.randint(1,12)"
   ]
  },
  {
   "cell_type": "code",
   "execution_count": 47,
   "metadata": {},
   "outputs": [],
   "source": [
    "def suma_partida(partida):\n",
    "    total1 = 0\n",
    "    total2 = 0\n",
    "    for num in partida:\n",
    "        if num < 10:\n",
    "            total1 += num\n",
    "        else:\n",
    "            total1 += 10\n",
    "    if 1 in partida:            \n",
    "        for num in partida:\n",
    "            if num == 1:\n",
    "                total2 += 11\n",
    "            elif num > 1 and num < 10:\n",
    "                total2 += num\n",
    "            else:\n",
    "                total2 += 10\n",
    "    return total1, total2"
   ]
  },
  {
   "cell_type": "code",
   "execution_count": 28,
   "metadata": {},
   "outputs": [],
   "source": [
    "def reparto_inicial():\n",
    "    gamer = []\n",
    "    crupier = []\n",
    "    gamer.append(sacar_tarjeta())\n",
    "    gamer.append(sacar_tarjeta())\n",
    "    crupier.append(sacar_tarjeta())\n",
    "    return gamer, crupier"
   ]
  },
  {
   "cell_type": "code",
   "execution_count": 29,
   "metadata": {},
   "outputs": [],
   "source": [
    "def jugada_nueva(partida):\n",
    "    partida.append(sacar_tarjeta())\n",
    "    suma1, suma2 = suma_partida(partida)\n",
    "    print(partida, suma1, suma2)\n",
    "    if suma1 > 21:\n",
    "        print(\"PERDISTE\")\n"
   ]
  },
  {
   "cell_type": "code",
   "execution_count": 64,
   "metadata": {},
   "outputs": [
    {
     "output_type": "stream",
     "name": "stdout",
     "text": [
      "your game:  [10, 5]\nhome game:  [5]\n"
     ]
    }
   ],
   "source": [
    "gamer, crupier = reparto_inicial()\n",
    "print(\"your game: \", gamer)\n",
    "print(\"home game: \", crupier)"
   ]
  },
  {
   "cell_type": "code",
   "execution_count": 65,
   "metadata": {},
   "outputs": [
    {
     "output_type": "stream",
     "name": "stdout",
     "text": [
      "[10, 5, 1] 16 26\n"
     ]
    }
   ],
   "source": [
    "jugada_nueva(gamer)"
   ]
  },
  {
   "cell_type": "code",
   "execution_count": 68,
   "metadata": {},
   "outputs": [
    {
     "output_type": "stream",
     "name": "stdout",
     "text": [
      "[5, 2, 8, 2] 17 0\n"
     ]
    }
   ],
   "source": [
    "jugada_nueva(crupier)\n"
   ]
  },
  {
   "cell_type": "code",
   "execution_count": null,
   "metadata": {},
   "outputs": [],
   "source": []
  }
 ]
}